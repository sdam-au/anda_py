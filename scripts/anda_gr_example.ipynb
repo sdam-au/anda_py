{
 "cells": [
  {
   "cell_type": "code",
   "execution_count": null,
   "metadata": {},
   "outputs": [],
   "source": []
  },
  {
   "cell_type": "markdown",
   "metadata": {},
   "source": [
    "# Requirements"
   ]
  },
  {
   "cell_type": "code",
   "execution_count": 1,
   "metadata": {
    "colab": {},
    "colab_type": "code",
    "id": "HaAV477_eKPj"
   },
   "outputs": [],
   "source": [
    "from anda import gr"
   ]
  },
  {
   "cell_type": "code",
   "execution_count": 53,
   "metadata": {},
   "outputs": [
    {
     "data": {
      "text/plain": [
       "<module 'anda.gr' from '/Users/au648597/Documents/projects/anda_REPO/anda/gr.py'>"
      ]
     },
     "execution_count": 53,
     "metadata": {},
     "output_type": "execute_result"
    }
   ],
   "source": [
    "# to use the latest version (for development)\n",
    "from importlib import reload\n",
    "reload(gr)"
   ]
  },
  {
   "cell_type": "markdown",
   "metadata": {},
   "source": [
    "# Usage"
   ]
  },
  {
   "cell_type": "markdown",
   "metadata": {
    "colab_type": "text",
    "id": "yt9T3Oo0gMfK"
   },
   "source": [
    "If you have only one word, you can either return all possible lemmata associated with it separated by `/` (`return_all_unique_lemmata()`), or you can return only the first of them (`return_first_lemma()`). In  case of all lemmatization functions, there is a set of optional additional arguments:\n",
    "* `all_lemmata=False`\n",
    "* `filter_by_postag=None` (try `filter_by_postag=[\"n\",\"a\",\"v\"]` to get nouns, adjectives and verbs\n",
    "* `involve_unknown=False`, i.e. return (True) or omit (False) words in cases where no lemma was found)"
   ]
  },
  {
   "cell_type": "code",
   "execution_count": 25,
   "metadata": {},
   "outputs": [
    {
     "data": {
      "text/plain": [
       "'ἐπιστήμη'"
      ]
     },
     "execution_count": 25,
     "metadata": {},
     "output_type": "execute_result"
    }
   ],
   "source": [
    "gr.return_first_lemma(\"ἐπιστήμην\")"
   ]
  },
  {
   "cell_type": "code",
   "execution_count": 23,
   "metadata": {
    "colab": {
     "base_uri": "https://localhost:8080/",
     "height": 34
    },
    "colab_type": "code",
    "executionInfo": {
     "elapsed": 544,
     "status": "ok",
     "timestamp": 1586177132873,
     "user": {
      "displayName": "Vojtěch Kaše",
      "photoUrl": "https://lh3.googleusercontent.com/a-/AOh14Ggz3jS9e7I3GdIEbyBKFtqr9tPdNCwyLBEJwbK8cw=s64",
      "userId": "01399835024022498543"
     },
     "user_tz": -120
    },
    "id": "uXbHWjligNnF",
    "outputId": "046c8ba6-e4e4-4d28-b24a-786209051284"
   },
   "outputs": [
    {
     "data": {
      "text/plain": [
       "'ἐπιστήμη'"
      ]
     },
     "execution_count": 23,
     "metadata": {},
     "output_type": "execute_result"
    }
   ],
   "source": [
    "gr.return_all_unique_lemmata(\"ἐπιστήμην\")"
   ]
  },
  {
   "cell_type": "markdown",
   "metadata": {
    "colab_type": "text",
    "id": "zng0pa1AiQxr"
   },
   "source": [
    "You can also lemmatize an extensive string, consisting from a number of words, like this one:"
   ]
  },
  {
   "cell_type": "code",
   "execution_count": 40,
   "metadata": {
    "colab": {},
    "colab_type": "code",
    "id": "qmF74g3ueSb7"
   },
   "outputs": [],
   "source": [
    "string = \"Πρότασις μὲν οὖν ἐστὶ λόγος καταφατικὸς ἢ ἀποφατικὸς τινὸς κατά τινος. Οὗτος δὲ ἢ καθόλου ἢ ἐν μέρει ἢ ἀδιόριστος. Λέγω δὲ καθόλου μὲν τὸ παντὶ ἢ μηδενὶ ὑπάρχειν, ἐν μέρει δὲ τὸ τινὶ ἢ μὴ τινὶ ἢ μὴ παντὶ ὑπάρχειν, ἀδιόριστον δὲ τὸ ὑπάρχειν ἢ μὴ ὑπάρχειν ἄνευ τοῦ καθόλου, ἢ κατὰ μέρος, οἷον τὸ τῶν ἐναντίων εἶναι τὴν αὐτὴν ἐπιστήμην ἢ τὸ τὴν ἡδονὴν μὴ εἶναι ἀγαθόν.\""
   ]
  },
  {
   "cell_type": "markdown",
   "metadata": {
    "colab_type": "text",
    "id": "xJHhsoA2iPHU"
   },
   "source": [
    "Then you run:"
   ]
  },
  {
   "cell_type": "code",
   "execution_count": 5,
   "metadata": {
    "colab": {
     "base_uri": "https://localhost:8080/",
     "height": 54
    },
    "colab_type": "code",
    "executionInfo": {
     "elapsed": 553,
     "status": "ok",
     "timestamp": 1586177475558,
     "user": {
      "displayName": "Vojtěch Kaše",
      "photoUrl": "https://lh3.googleusercontent.com/a-/AOh14Ggz3jS9e7I3GdIEbyBKFtqr9tPdNCwyLBEJwbK8cw=s64",
      "userId": "01399835024022498543"
     },
     "user_tz": -120
    },
    "id": "jXgZfGRmgGXP",
    "outputId": "9129245c-757e-42e7-96f4-db4a5c9e60a1"
   },
   "outputs": [
    {
     "name": "stdout",
     "output_type": "stream",
     "text": [
      "['πρότασις', 'λόγος', 'καταφατικός', 'ἀποφατικός', 'καθόλου', 'μέρος', 'ἀδιόριστος', 'λέγω', 'καθόλου', 'πᾶς', 'μηδείς', 'ὑπάρχω', 'μέρος', 'πᾶς', 'ὑπάρχω', 'ἀδιόριστον', 'ὑπάρχω', 'ὑπάρχω', 'ἄνευ', 'καθόλου', 'μέρος', 'οἷος', 'ἐναντίος', 'αὐτην', 'ἐπιστήμη', 'ἡδονην', 'ἀγαθός']\n"
     ]
    }
   ],
   "source": [
    "lemmatized_string = gr.lemmatize_string(string)\n",
    "print(lemmatized_string)"
   ]
  },
  {
   "cell_type": "markdown",
   "metadata": {
    "colab_type": "text",
    "id": "XTtqgHi9kobt"
   },
   "source": [
    "The results above are still quite poor. Perhaps there is a problem with encoding..."
   ]
  },
  {
   "cell_type": "markdown",
   "metadata": {
    "colab_type": "text",
    "id": "j2Jbjst2gQol"
   },
   "source": [
    "You can also lemmatize the string and at the same time split it into sentences:"
   ]
  },
  {
   "cell_type": "code",
   "execution_count": 26,
   "metadata": {},
   "outputs": [
    {
     "name": "stdout",
     "output_type": "stream",
     "text": [
      "[['πρότασις', 'λόγος', 'καταφατικός', 'ἀποφατικός'], ['καθόλου', 'μέρος', 'ἀδιόριστος'], ['λέγω', 'καθόλου', 'πᾶς', 'μηδείς', 'ὑπάρχω', 'μέρος', 'πᾶς', 'ὑπάρχω', 'ἀδιόριστον', 'ὑπάρχω', 'ὑπάρχω', 'ἄνευ', 'καθόλου', 'μέρος', 'οἷος', 'ἐναντίος', 'αὐτην', 'ἐπιστήμη', 'ἡδονην', 'ἀγαθός']]\n"
     ]
    }
   ],
   "source": [
    "lemmatized_sentences = gr.get_lemmatized_sentences(string)\n",
    "print(lemmatized_sentences)"
   ]
  },
  {
   "cell_type": "code",
   "execution_count": 46,
   "metadata": {
    "colab": {
     "base_uri": "https://localhost:8080/",
     "height": 54
    },
    "colab_type": "code",
    "executionInfo": {
     "elapsed": 580,
     "status": "ok",
     "timestamp": 1586176616146,
     "user": {
      "displayName": "Vojtěch Kaše",
      "photoUrl": "https://lh3.googleusercontent.com/a-/AOh14Ggz3jS9e7I3GdIEbyBKFtqr9tPdNCwyLBEJwbK8cw=s64",
      "userId": "01399835024022498543"
     },
     "user_tz": -120
    },
    "id": "r3ZBn24ZfM8U",
    "outputId": "52da26a2-cb25-4748-cb95-a08f1ec56b5e"
   },
   "outputs": [
    {
     "name": "stdout",
     "output_type": "stream",
     "text": [
      "[['λόγος'], ['μέρος'], ['πᾶς', 'μηδείς', 'ὑπάρχω', 'μέρος', 'πᾶς', 'ὑπάρχω', 'ὑπάρχω', 'ὑπάρχω', 'ἄνω/ἀνίημι', 'μέρος', 'οἷος', 'ἐναντίος', 'ἐπιστήμη', 'ἀγαθός']]\n"
     ]
    }
   ],
   "source": [
    "lemmatized_sentences = gr.get_lemmatized_sentences(string, all_lemmata=True, filter_by_postag=[\"n\",\"a\",\"v\"], involve_unknown=False)\n",
    "print(lemmatized_sentences)"
   ]
  },
  {
   "cell_type": "code",
   "execution_count": 33,
   "metadata": {},
   "outputs": [
    {
     "data": {
      "text/plain": [
       "'to begin, make a beginning'"
      ]
     },
     "execution_count": 33,
     "metadata": {},
     "output_type": "execute_result"
    }
   ],
   "source": [
    "gr.return_all_unique_translations(\"ὑπάρχειν\", filter_by_postag=None, involve_unknown=False)"
   ]
  },
  {
   "cell_type": "code",
   "execution_count": 45,
   "metadata": {},
   "outputs": [
    {
     "data": {
      "text/plain": [
       "'the word'"
      ]
     },
     "execution_count": 45,
     "metadata": {},
     "output_type": "execute_result"
    }
   ],
   "source": [
    "gr.lemma_translator(\"λόγος\")"
   ]
  },
  {
   "cell_type": "code",
   "execution_count": 51,
   "metadata": {},
   "outputs": [],
   "source": [
    "string_tokenized = gr.tokenize_string(string)"
   ]
  },
  {
   "cell_type": "code",
   "execution_count": 60,
   "metadata": {},
   "outputs": [
    {
     "data": {
      "text/plain": [
       "[{'i': '564347',\n",
       "  'f': 'μέν',\n",
       "  'b': 'μεν',\n",
       "  'l': 'μέν',\n",
       "  'e': 'μεν',\n",
       "  'p': 'g--------',\n",
       "  'd': '20753',\n",
       "  's': 'on the one hand, on the other hand',\n",
       "  'a': None},\n",
       " {'i': '642363',\n",
       "  'f': 'οὖν',\n",
       "  'b': 'ουν',\n",
       "  'l': 'οὖν',\n",
       "  'e': 'ουν',\n",
       "  'p': 'g--------',\n",
       "  'd': '23870',\n",
       "  's': 'really, at all events',\n",
       "  'a': None},\n",
       " {'i': '264221',\n",
       "  'f': 'ἐστί',\n",
       "  'b': 'εστι',\n",
       "  'l': 'εἰμί',\n",
       "  'e': 'ειμι',\n",
       "  'p': 'v3spia---',\n",
       "  'd': '9722',\n",
       "  's': 'I have',\n",
       "  'a': None}]"
      ]
     },
     "execution_count": 60,
     "metadata": {},
     "output_type": "execute_result"
    }
   ],
   "source": [
    "gr.morphological_analysis(string)[1:4]"
   ]
  }
 ],
 "metadata": {
  "colab": {
   "authorship_tag": "ABX9TyPYZDTpBuQbzMs+xLIRQQTd",
   "collapsed_sections": [],
   "name": "anda_gr_example.ipynb",
   "provenance": []
  },
  "kernelspec": {
   "display_name": "Python 3",
   "language": "python",
   "name": "python3"
  },
  "language_info": {
   "codemirror_mode": {
    "name": "ipython",
    "version": 3
   },
   "file_extension": ".py",
   "mimetype": "text/x-python",
   "name": "python",
   "nbconvert_exporter": "python",
   "pygments_lexer": "ipython3",
   "version": "3.6.8"
  }
 },
 "nbformat": 4,
 "nbformat_minor": 4
}
